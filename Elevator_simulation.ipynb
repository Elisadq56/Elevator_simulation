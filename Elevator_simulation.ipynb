{
 "cells": [
  {
   "cell_type": "markdown",
   "id": "2b4efadd",
   "metadata": {},
   "source": [
    "# Elevator simulation \n",
    "\n",
    "Code written in June and July 2020 by Camille Forns and Jonathan Perun during their internship of second year of engineering school at the ENTPE supervised by ChB (Licit, ENTPE/ Université Gustave Eiffel). The code was first improved by ChB. Then it was arranged by Thibault Charlottin and Anthony Grasser in 2021. ChB polished it a second time. Then in 2022 Flore Barré and Elisa Diot-Quéré traduced it in English and published it in Gitbub.\n",
    "\n",
    "The following version is simplified and meant for a basic use. There is a unique simulation of a unique hotel containing one single elevator. All users are alone in their room and stay for one single night.\n",
    "\n",
    "Use this version to test the impact of encouraging the use of the stairs instead of the elevator on the energy consumption of the elevator."
   ]
  },
  {
   "cell_type": "markdown",
   "id": "5897356d",
   "metadata": {},
   "source": [
    "### Several informations before starting\n",
    "When coding, you start by defining all of the things that will be used later on. It is worth noting that the proper simulation is located at the bottom of this page, where a cell indicates \"this is where the simulation of the hotel is executed\". There are two types of cells in this notebook. Cells containing text, like this one which are meant to introduce the structure and add comments. They are called \"Markdown\"."
   ]
  },
  {
   "cell_type": "markdown",
   "id": "98ae28b6",
   "metadata": {},
   "source": [
    "# Import of the useful and available modules \n",
    "To start with, we need to import the useful modules for calculation.\n",
    "For this simulation, we need the *random* module to randomly generate the hours of movement. The unit *np* will be useful for some calculations, *matplotlin.pyplot* to draw graphs and *statistics* to interpret our results. We will use *pandas* to present our results with tables."
   ]
  },
  {
   "cell_type": "code",
   "execution_count": 1,
   "id": "50dc3a03",
   "metadata": {},
   "outputs": [],
   "source": [
    "# This cell is a cell code as you can see by clicking above on the tab \"cell\" which at the \"cell type\" offers us markdown \n",
    "# or code. If you change the type of the cell to mardown, it is not code anymore !\n",
    "\n",
    "\n",
    "# In a cell code, if you do not want to execute a line or a part of line you just have to add an \n",
    "# \"#\" before the related component\n",
    "# By the way, it seems important to point out that a good code is a code with COMMENTS. \n",
    "# Indeed, a code without comments is not understandable\n",
    "# However, be careful to avoid useless comments like this one which do not increase the readability \n",
    "# of your code...on the opposite \n",
    "\n",
    "import random as rd \n",
    "# 'as rd' allows to rename our unit to make it shorter \n",
    "\n",
    "import numpy as np # same reason (also you can notice there how \"#\" can be used at the end of a \n",
    "# line to indicate a comment) \n",
    "\n",
    "import matplotlib.pyplot as plt\n",
    "\n",
    "import statistics \n",
    "\n",
    "import pandas as pd\n",
    "\n",
    "#(1) : because \"Repetition is the mother of teaching\" "
   ]
  },
  {
   "cell_type": "markdown",
   "id": "a1217d83",
   "metadata": {},
   "source": [
    "### Definition of the constants"
   ]
  },
  {
   "cell_type": "markdown",
   "id": "f458f473",
   "metadata": {},
   "source": [
    "We define all of the constants that will step in our calculations and that will stand still during the entire simulation.\n",
    "These constants can obviously be changed between different simulations."
   ]
  },
  {
   "cell_type": "markdown",
   "id": "1f87c866",
   "metadata": {},
   "source": [
    "For every trip, the user has a probability different from 0 of using the stairs instead of the elevator to go up or down."
   ]
  },
  {
   "cell_type": "code",
   "execution_count": 2,
   "id": "3c0e5f3c",
   "metadata": {},
   "outputs": [],
   "source": [
    "PROBA_DOWN_ST = 0.3 \n",
    "PROBA_UP_ST = 0.00"
   ]
  },
  {
   "cell_type": "markdown",
   "id": "50e0efda",
   "metadata": {},
   "source": [
    "The user can lose patience when waiting for the elevator. When going beyond \"LOSEP_DURATION\", the probability of going up or down by the stairs is multiplied by \"LOSEP_FACTOR\""
   ]
  },
  {
   "cell_type": "code",
   "execution_count": 3,
   "id": "d293d0c6",
   "metadata": {},
   "outputs": [],
   "source": [
    "LOSEP_DURATION = 60 #s = 1 minute\n",
    "LOSEP_FACTOR = 2"
   ]
  },
  {
   "cell_type": "markdown",
   "id": "2292166e",
   "metadata": {},
   "source": [
    "It is also necessary to consider the average weight of the users because the energy cost of a trip is related to the weight carried by the elevator."
   ]
  },
  {
   "cell_type": "code",
   "execution_count": 4,
   "id": "d42e2488",
   "metadata": {},
   "outputs": [],
   "source": [
    "AVG_WT = 65 #kg"
   ]
  },
  {
   "cell_type": "markdown",
   "id": "f66655fe",
   "metadata": {},
   "source": [
    "### Definition of the parameters of the movements in the hotel\n",
    "#### Movements taken into account\n",
    "We only pay attention to vertical movements using the elevator or the stairs. The horizontal movements taking place in the corridors are not taken into account. Also, we only consider the movements of the clients of the hotel and ignore the movements of the staff (cleaning, room service,...) \n",
    "\n",
    "#### Movements of the clients\n",
    "The clients check-in at the end of the day and check-out before noon on the following day. In total, they can do a maximum of 8 vertical movements :\n",
    "\n",
    "*1* When they arrive, they reach their room. \n",
    "\n",
    "*2* They can go out for dinner or a drink,\n",
    "\n",
    "*3* in that case, they go up to their room afterwards \n",
    "\n",
    "*4* some of them go to the reception of the hotel to ask for some informations\n",
    "\n",
    "*5* then they go back upstairs\n",
    "\n",
    "*6* most of them go downstairs during the hours of service to the breakfast area\n",
    "\n",
    "*7* then they go back upstairs\n",
    "\n",
    "*8* finally, all of them leave the hotel at the end of their stay"
   ]
  },
  {
   "cell_type": "markdown",
   "id": "0a39f8c0",
   "metadata": {},
   "source": [
    "#### Arrival (*1*) and departure (*8*) \n",
    "We define the average check-in time of the clients and its standard deviation. We do the same thing for the hour of check-out. "
   ]
  },
  {
   "cell_type": "code",
   "execution_count": 5,
   "id": "e554bc14",
   "metadata": {},
   "outputs": [],
   "source": [
    "AVG_CI_H = 68400 #s = 7 P.M\n",
    "SD_CI_H = 7200 #s = 2 hours\n",
    "AVG_CO_H = 118800 #s = 9 A.M on the following days\n",
    "SD_CO_H = 7200 #s = 2 hours"
   ]
  },
  {
   "cell_type": "markdown",
   "id": "0002cb14",
   "metadata": {},
   "source": [
    "#### Descent (*2*) and ascension (*3*) when going out at the end of the day\n",
    "Going out is planned to take place between BEG_GO_OUT_H and END_GO_OUT_H.\n",
    "The users that do have an BEG_GO_OUT_H generated have a 90% probability of going out to have dinner. This probability decreases until being null at END_GO_OUT_H."
   ]
  },
  {
   "cell_type": "code",
   "execution_count": 6,
   "id": "e0c0ae7c",
   "metadata": {},
   "outputs": [],
   "source": [
    "BEG_GO_OUT_H = 70200 #s = 7 : 30 PM\n",
    "END_GO_OUT_H = 82800 #s = 11 PM\n",
    "PROBA_BEG_GO_OUT = 0.9\n",
    "AVG_GO_OUT_DURATION = 9000 #s = 2 hours and 30 minutes\n",
    "SD_GO_OUT_DURATION = 3600  #s = 1 hour\n",
    "MIN_GO_OUT_DURATION = 1800 #s = 30 minutes\n",
    "MAX_GO_OUT_DURATION = 11940 #s = 3 hours and 19 minutes"
   ]
  },
  {
   "cell_type": "markdown",
   "id": "9fef0df3",
   "metadata": {},
   "source": [
    "##### Descent at the reception (*4*) and rise (*5*)\n",
    "For whatever reason, each user has a probability of 5% of descending to the reception for a constant and identical for every user duration.\n",
    "We judge that if this descent actually takes place, it occurs somehow between the check-in and the check-out time of the user."
   ]
  },
  {
   "cell_type": "code",
   "execution_count": 7,
   "id": "14403978",
   "metadata": {},
   "outputs": [],
   "source": [
    "PROBA_DOWN = 0.05 # \n",
    "DURATION_DOWN = 360 #s = 6 minutes"
   ]
  },
  {
   "cell_type": "markdown",
   "id": "371297c4",
   "metadata": {},
   "source": [
    "#### Breakfast (*6* et *7*)\n",
    "It is possible to have breakfast between BEG_BF_H et END_BF_H.\n",
    "\n",
    "PROBA_BF corresponds to each user's probability of having breakfast. We also take into account the average and minimum duration of breakfast as well as the standard deviation of this duration.\n",
    "We will also need of BRUSHING_TEETH_DURATION because a certain amount of time flows by for every user between the return to the room after having breakfast and the hour of departure.\n",
    "We consider that the hour of going downstairs to the breakfast area and its meal time allows the user to stay for 15 minutes in its room before its hour of departure from the hotel (in order to brush its teeth or pack up).\n",
    " "
   ]
  },
  {
   "cell_type": "code",
   "execution_count": 8,
   "id": "f6e25ab9",
   "metadata": {},
   "outputs": [],
   "source": [
    "BEG_BF_H = 109800 #s = 6:30 AM on the following day\n",
    "END_BF_H = 120600 #s = 9:30 AM on the following day\n",
    "PROBA_BF = 0.8\n",
    "AVG_BF_DURATION = 1800 #s = half an hour\n",
    "SD_BF_DURATION = 360  #s = 6 minutes\n",
    "MIN_BF_DURATION = 360 #s = 6 minutes\n",
    "MAX_BF_DURATION = 10800 #s = 3 hours, it is the opening duration of the breakfast area\n",
    "BRUSHING_TEETH_DURATION = 900 #s = 15 minutes"
   ]
  },
  {
   "cell_type": "markdown",
   "id": "f83762b9",
   "metadata": {},
   "source": [
    "### Definition of a few useful functions : \n",
    "\n",
    "sec2h allows us to easily convert a duration from seconds to hours, this function is very important, especially when returning text because time in seconds is not very indicative. We also need to take into account the fact that seconds keep passing after midnight while hours automatically reset at 0 at midnight.\n",
    "\n",
    "h2sec does the opposite job\n",
    "\n",
    "Finally h2secD gives the duration in seconds matching with h hours. No need to make the distinction between before and after midnight for this function."
   ]
  },
  {
   "cell_type": "code",
   "execution_count": 9,
   "id": "9d2832c7",
   "metadata": {},
   "outputs": [],
   "source": [
    "def sec2h (t):\n",
    "    if t <= 86400 - 1:\n",
    "        return(t / 3600)\n",
    "    else:\n",
    "        return((t-(86400 - 1))/3600)\n",
    "    \n",
    "def h2sec (h):\n",
    "    if 12<h<24:\n",
    "        return (h*3600)\n",
    "    else:\n",
    "        return (h*3600 + 24*3600)\n",
    "        \n",
    "def h2secD (h):\n",
    "        return (h*3600)\n",
    "    "
   ]
  },
  {
   "cell_type": "markdown",
   "id": "5a446663",
   "metadata": {},
   "source": [
    "### Definition of the classes"
   ]
  },
  {
   "cell_type": "markdown",
   "id": "461868a4",
   "metadata": {},
   "source": [
    "#### Class of the customers"
   ]
  },
  {
   "cell_type": "code",
   "execution_count": 10,
   "id": "4a39b3a2",
   "metadata": {},
   "outputs": [],
   "source": [
    "class Customer :\n",
    "\n",
    "    def __init__(self, available_floor):\n",
    "        self.proba_up_st = PROBA_UP_ST\n",
    "        self.proba_down_st = PROBA_DOWN_ST \n",
    "        self.floor = self.affectation(available_floor)\n",
    "        (self.bf_h, self.bf_duration, self.co_h) = self.proba_bf()\n",
    "        self.ci_h = self.ci()\n",
    "        (self.go_out_h, self.go_out_duration) = self.proba_go_out()\n",
    "        self.down_h = self.proba_down()\n",
    "        (self.ci_up, self.bf_down) = self.proba_evt()\n",
    "        self.co_down = self.proba_evt()[1]\n",
    "        self.go_out_down = self.proba_evt()[1]\n",
    "        self.down_down = self.proba_evt()[1]\n",
    "        self.cumul_wait_time = 0\n",
    "        self.wait = 0\n",
    "        self.status = \"free\"\n",
    "        self.loc_memory = []\n",
    "        self.time_memory = []\n",
    "\n",
    "\n",
    "    def __str__(self):\n",
    "        return(\"The features of the traveler are : \\n\\\n",
    "        Breakfast at {} \\n\\\n",
    "        Mean of descending to have breakfast: {} (1:elevator, 0:stairs) \\n\\\n",
    "        floor: {} \\n\\\n",
    "        The user checks in in the evening at {} \\n\\\n",
    "        Mean of going up at the arrival {} \\n\\\n",
    "        The user takes {} to have breakfast \".format(sec2h(self.bf_h), self.bf_down, self.floor, sec2h(self.ci_h), self.ci_up, sec2h(self.bf_duration)))\n",
    "\n",
    "\n",
    "    def affectation(self, available_floor):\n",
    "        floor = available_floor.index(max(available_floor))\n",
    "        if floor == 0:\n",
    "            print(\"the hotel is fully booked\")\n",
    "        else:\n",
    "            # We get the index number of the maximum of available_floor\n",
    "            # this matches with the most available floor by adding one\n",
    "            # we assign to the user this floor.\n",
    "            available_floor[available_floor.index(max(available_floor))]-=1\n",
    "            # since we assigned to a user a floor, we need to change available_floor, \n",
    "            # the availability of the floor diminishes\n",
    "            return(floor)\n",
    "        \n",
    "    def proba_bf(self):\n",
    "        (bf_h, bf_duration, co_h)=(0,0,0)\n",
    "        if rd.random() <= PROBA_BF:\n",
    "        # This condition comes up in the case where the user has breakfast.\n",
    "            bf_duration = int(max(MIN_BF_DURATION, rd.gauss(AVG_BF_DURATION,SD_BF_DURATION)))\n",
    "            bf_duration = min(bf_duration, MAX_BF_DURATION)\n",
    "            # We first define the duration, we make sure it is neither too long nor too short\n",
    "            bf_h = rd.randint(BEG_BF_H, END_BF_H- bf_duration - 10*60)\n",
    "            # We finally define the hour of breakfast while making sure it finishes on time.\n",
    "            # We add up a \"safety blanket\" of 10 minutes (\"10*60\").\n",
    "            return(bf_h, bf_duration, co_h)\n",
    "        else:\n",
    "            co_h = int(rd.gauss(AVG_CO_H, SD_CO_H))\n",
    "            # If the user does not have breakfast, we can directly determine the hour of his departure.\n",
    "            return(bf_h, bf_duration, co_h)\n",
    "\n",
    "\n",
    "    def ci(self):\n",
    "        return(int(rd.gauss(AVG_CI_H,SD_CI_H)))\n",
    "        # We can directly calculate the hour of arrival of the user, which will be useful later on for the hour of outing.\n",
    "\n",
    "\n",
    "    def proba_go_out(self):\n",
    "        go_out_duration = int(max(MIN_GO_OUT_DURATION, rd.gauss(AVG_GO_OUT_DURATION, SD_GO_OUT_DURATION)))\n",
    "        go_out_duration = min(MAX_GO_OUT_DURATION, go_out_duration)\n",
    "        # This two first lines allows us to mark out the boundaries of the hour of outing.\n",
    "        # MIN_GO_OUT_DURATION <= go_out_duration <= MAX_GO_OUT_DURATION\n",
    "        go_out_h= max(self.ci_h + 10*60, rd.randint(BEG_GO_OUT_H , END_GO_OUT_H - go_out_duration - 10*60 ))\n",
    "        # We generate the hour of going out by taking a random integer within the available time slot for outing.\n",
    "        # It is necessary to take into account the duration of the outing so it does not start too late.\n",
    "        # We leave a 10 minutes blanket between the boundaries to be safe.\n",
    "        probability_go_out=((END_GO_OUT_H - go_out_h)/(END_GO_OUT_H - BEG_GO_OUT_H ))*0.9\n",
    "        # We calculate the probability matching the previous hour, knowing that for BEG_GO_OUT_H  the probability is of 0.9\n",
    "        # and that at END_GO_OUT_H the probability is of 0.\n",
    "        if rd.random() <= probability_go_out:\n",
    "        # Finally, we test if the user decides to go out or no.\n",
    "            return(go_out_h, go_out_duration)\n",
    "        else:\n",
    "            return(0, 0)\n",
    "\n",
    "\n",
    "    def proba_down(self):\n",
    "    # During this step, we identify the intervals of time when it is possible to have a descent        \n",
    "        l=[]\n",
    "        if (self.go_out_h, self.go_out_duration) != (0, 0) and self.ci_h + 10*60 < self.go_out_h - 10*60 - DURATION_DOWN:\n",
    "        # We check if there user goes out or no. If he does, the hours are equal to 0\n",
    "            l.append(rd.randint(self.ci_h + 10*60, self.go_out_h - 10*60 - DURATION_DOWN))\n",
    "            # If there is an outing, there can be a descent between the check-in hour and the beginning of the outing.\n",
    "            # We leave a safety blanket of 10 minutes.\n",
    "            if (self.bf_h, self.bf_duration) != (0, 0) and self.go_out_h + self.go_out_duration + 10*60 < self.bf_h - 10*60 - DURATION_DOWN:\n",
    "            # We also test if there is a breakfast to know if there is a possibility of descent between the outing and the breakfast    #the outing actually is breakfast\n",
    "                l.append(rd.randint(self.go_out_h + self.go_out_duration + 10*60, self.bf_h - 10*60 - DURATION_DOWN))\n",
    "            else:\n",
    "            # If there is not breakfast, there can be a descent between the hours of check-in and check-out.\n",
    "                l.append(rd.randint(self.go_out_h + self.go_out_duration + 10*60, self.co_h - 10*60 - DURATION_DOWN))\n",
    "        else:\n",
    "        # We repeat and adapt the previous process in the case where the user does not go out\n",
    "            if (self.bf_h, self.bf_duration) != (0, 0) and self.ci_h - 10*60 < self.bf_h - 10*60 - DURATION_DOWN:\n",
    "                l.append(rd.randint(self.ci_h + 10*60, self.bf_h - 10*60 - DURATION_DOWN))\n",
    "            else:\n",
    "                l.append(rd.randint(self.ci_h + 10*60, self.co_h - 10*60 - DURATION_DOWN))\n",
    "        if rd.random() <= PROBA_DOWN:\n",
    "        # we use PROBA_DOWN to check if there is an outing or no.\n",
    "            return(rd.choice(l))\n",
    "        else:\n",
    "            return(0)\n",
    "\n",
    "\n",
    "    def proba_evt(self):\n",
    "    # We look at in function of PROBA_DOWN_ST and PROBA_UP_ST if the person takes the stairs or no,\n",
    "    # This method sends a tuple. It is up to us to name it properly if we only want the rise or the descent.\n",
    "    # 0 = stairs, 1 = elevator\n",
    "        if rd.random() <= self.proba_down_st:\n",
    "            down = 0\n",
    "        else:\n",
    "            down = 1\n",
    "        if rd.random() <= self.proba_up_st:\n",
    "            up = 0\n",
    "        else:\n",
    "            up = 1\n",
    "        return(up, down)\n"
   ]
  },
  {
   "cell_type": "markdown",
   "id": "1fee1f56",
   "metadata": {},
   "source": [
    "#### Class of the hotel"
   ]
  },
  {
   "cell_type": "code",
   "execution_count": 11,
   "id": "3363783d",
   "metadata": {},
   "outputs": [],
   "source": [
    "NB_FLOOR  = 12\n",
    "NB_EVT = 3\n",
    "NB_ROOM_PER_FLOOR = 15\n",
    "NB_CUSTOMER_PER_ROOM = 1\n",
    "FLOOR_HEIGHT = 3 # in meters\n",
    "AVG_OCCUPANCY = 0.4\n",
    "SD_OCCUPANCY = 0.1\n",
    "DAY_DURATION = 24"
   ]
  },
  {
   "cell_type": "markdown",
   "id": "d5796224",
   "metadata": {},
   "source": [
    "For the class *Hotel*, the constants are directly defined within the class."
   ]
  },
  {
   "cell_type": "code",
   "execution_count": 12,
   "id": "7a530fc5",
   "metadata": {},
   "outputs": [],
   "source": [
    "class Hotel :\n",
    "\n",
    "    def __init__(self,BEG_BF_H = (24+6.5)*3600, END_BF_H = (24+9.5)*3600,\n",
    "                 BEG_GO_OUT_H = 19.5*3600, END_GO_OUT_H = 23*3600):\n",
    "\n",
    "        self.NB_FLOOR = NB_FLOOR\n",
    "        self.NB_EVT = NB_EVT\n",
    "        self.NB_ROOM_PER_FLOOR = NB_ROOM_PER_FLOOR\n",
    "        self.NB_CUSTOMER_PER_ROOM = NB_CUSTOMER_PER_ROOM\n",
    "        TOT_NB_ROOM = NB_ROOM_PER_FLOOR * NB_FLOOR\n",
    "        self.TOT_NB_ROOM = TOT_NB_ROOM\n",
    "        MAX_TOT_NB_CUSTOMER = TOT_NB_ROOM * NB_CUSTOMER_PER_ROOM\n",
    "        self.MAX_TOT_NB_CUSTOMER = MAX_TOT_NB_CUSTOMER\n",
    "        self.FLOOR_HEIGHT = FLOOR_HEIGHT\n",
    "\n",
    "        self.AVG_OCCUPANCY = AVG_OCCUPANCY\n",
    "        self.SD_OCCUPANCY= SD_OCCUPANCY\n",
    "        #self.NB_TRAV = 0\n",
    "\n",
    "        self.DAY_DURATION = DAY_DURATION\n",
    "        self.BEG_BF_H = BEG_BF_H\n",
    "        self.END_BF_H = END_BF_H\n",
    "        self.BEG_GO_OUT_H = BEG_GO_OUT_H\n",
    "        self.END_GO_OUT_H = END_GO_OUT_H\n",
    "\n",
    "        # available_floor = [0] + NB_FLOOR * [NB_ROOM_PER_FLOOR]\n",
    "        # The indent of the list starts at 0 so we can add a floor 0 corresponding to the ground floor, \n",
    "        # with 0 room on it\n",
    "        # It is conveninent because it enables to have available_floor[1] = nb of rooms available on the first floor\n",
    "        # self.available_floor = available_floor\n",
    "\n",
    "    def __str__(self):\n",
    "        return (\"The charateristics of the hotel are : \\n - {} floors \\n - {} elevators \\n - {} travellers \\n - {} rooms per floors\".format(self.NB_FLOOR, self.NB_EVT, self.NB_TRAV, self.NB_ROOM_PER_FLOOR))\n",
    "        # By doing print(hotel1) you get the charateristics of the hotel.\n",
    "\n",
    "    def nb_trav(self):\n",
    "        occupancy = np.random.randn()*self.SD_OCCUPANCY+ self.AVG_OCCUPANCY # normal distribution\n",
    "        # np.random.randn() randomly chooses a number between -1 and 1 by following the standard normal distribution\n",
    "        # we multiply by the standard deviation and add up the average occupancy to get our standard normal distribution.\n",
    "        self.NB_TRAV = int(occupancy * self.MAX_TOT_NB_CUSTOMER) # The number of travellers is an integer.\n",
    "        return \"There are \" + str(self.NB_TRAV) + \" travellers\"\n",
    "\n",
    "    def pilote1(floor_departure, floor_arrival, index_number_u, purpose, t, e, u, list_evnt_evt_ord, step, wait_list,nb_ride_st,withdrawal):\n",
    "        e_available = [] # We try to establish which elevators are available, that is to say all the elevators that are \n",
    "        # not moving or carrying passengers\n",
    "        if floor_departure<int(NB_FLOOR/2) and floor_arrival==0 or floor_departure==0 and floor_arrival<int(NB_FLOOR/2) :     \n",
    "            # First Category of elevators\n",
    "            for evt in e[0:int(NB_EVT/4)] : # We go through the list of the elevators\n",
    "                if evt.mission == []: # if the elevator is not doing anything, it means it is available\n",
    "                    e_available.append(evt) # We add it to the list of the available elevators                \n",
    "            if e_available != [] : # We look if there is an elevator available.\n",
    "                if len(e_available) == 1 : # if there is only one elevator available, we choose it.\n",
    "                    ref = e_available[0]\n",
    "                else : # Otherwise, we look for the closest elevator available.\n",
    "                    ref = e_available[0] # We take the first elevator on the list as reference.\n",
    "                    dif_ref = abs(ref.location - floor_departure) \n",
    "                    # The gap between the floor where the elevator is currently located and the floor where the user is \n",
    "                    # waiting corresponds to the absolute value of the difference between the two floors.                   \n",
    "                    for evt in e_available : # We go through the list of the elevators available.\n",
    "                        dif = abs(evt.location - floor_departure)\n",
    "                        if dif < dif_ref : # We compare the gap calculated with the reference elevator.\n",
    "                            ref = evt # If the gap is smaller, the elevator becomes the reference elevator.\n",
    "                            dif_ref = dif\n",
    "                if ref.location == floor_departure : # If the elevator already is at the same floor than the user\n",
    "                    ref.nb_user += 1 # the user takes the elevator\n",
    "                    u[index_number_u].loc_memory.append(ref.location)\n",
    "                    u[index_number_u].time_memory.append(t)\n",
    "                    u[index_number_u].wait = 0\n",
    "                    u[index_number_u].status = \"free\"\n",
    "                    ref.mission = [floor_arrival,\"drop\",0,index_number_u,purpose] \n",
    "                    # the goal of the elevator is to go to the floor of destination of the user and drop him there.\n",
    "                    if floor_arrival - ref.location > 0 :\n",
    "                        ref.mvmt = 1\n",
    "                    else :\n",
    "                        ref.mvmt = -1\n",
    "                    ref.energy_cost += START_COST # the elevator starts up which implies an energy cost.\n",
    "                else : # otherwise\n",
    "                    ref.mission = [floor_departure,\"pick up\",floor_arrival,index_number_u,purpose] \n",
    "                    # the goal of the elevator is to pick up the user.\n",
    "                    if floor_departure - ref.location > 0 :\n",
    "                        ref.mvmt = 1\n",
    "                    else :\n",
    "                        ref.mvmt = -1\n",
    "                    ref.energy_cost += START_COST\n",
    "           \n",
    "            # If there is no elevator available in this category, we reach the third category\n",
    "            if e_available==[] :\n",
    "                for evt in e[int(3*NB_EVT/4):] : # We go through the list of the elevators\n",
    "                    if evt.mission == []: # If the elevator is not doing anything, in means it is available\n",
    "                        e_available.append(evt) # We add it to the list of the available elevators \n",
    "            if e_available != [] : # We look if there is an elevator available.\n",
    "                if len(e_available) == 1 : # if there is only one elevator available, we choose it.\n",
    "                    ref = e_available[0]\n",
    "                else : # Otherwise, we look for the closest elevator available.\n",
    "                    ref = e_available[0] # We take the first elevator on the list as reference.\n",
    "                    dif_ref = abs(ref.location - floor_departure) \n",
    "                    # The gap between the floor where the elevator is curently located and the floor where the user is\n",
    "                    # waiting corresponds to the absolute value of the difference of the two floors.\n",
    "                    for evt in e_available : # We go through the list of available elevators\n",
    "                        dif = abs(evt.location - floor_departure)\n",
    "                        if dif < dif_ref : # We compare the gap with the elevator of reference.\n",
    "                            ref = evt # If the gap is smaller, the elevator becomes the reference elevator..\n",
    "                            dif_ref = dif\n",
    "                if ref.location == floor_departure : # If the elevator already is at the same floor than the user\n",
    "                    ref.nb_user += 1 # The user takes the elevator\n",
    "                    u[index_number_u].loc_memory.append(ref.location)\n",
    "                    u[index_number_u].time_memory.append(t)\n",
    "                    u[index_number_u].wait = 0\n",
    "                    u[index_number_u].status = \"free\"\n",
    "                    ref.mission = [floor_arrival,\"drop\",0,index_number_u,purpose] \n",
    "                    # the goal of the elevator is to go to the floor of destination of the user and drop him there.\n",
    "                    if floor_arrival - ref.location > 0 :\n",
    "                        ref.mvmt = 1\n",
    "                    else :\n",
    "                        ref.mvmt = -1\n",
    "                    ref.energy_cost += START_COST # the elevator starts up which implies an energy cost.\n",
    "                else : # otherwise\n",
    "                    ref.mission = [floor_departure,\"pick up\",floor_arrival,index_number_u,purpose] \n",
    "                    # the goal of the elevator is to pick up the user.\n",
    "                    if floor_departure - ref.location > 0 :\n",
    "                        ref.mvmt = 1\n",
    "                    else :\n",
    "                        ref.mvmt = -1\n",
    "                    ref.energy_cost += START_COST\n",
    "                    \n",
    "                    \n",
    "        if floor_departure>NB_FLOOR/2 and floor_arrival==0 or floor_departure==0 and floor_arrival>NB_FLOOR/2 : \n",
    "            \n",
    "            # Second category of elevators\n",
    "            for evt in e[int(NB_EVT/4):int(3*NB_EVT/4)] : # We run through the list of the elevators\n",
    "                if evt.mission == []: # If the elevator is not doing anything, in means it is available\n",
    "                    e_available.append(evt) # We add it to the list of available elevators                \n",
    "            if e_available != [] : # \n",
    "                if len(e_available) == 1 : # If there is only one elevator available, we choose it.\n",
    "                    ref = e_available[0]\n",
    "                else : # Otherwise, we look for the closest elevator available.\n",
    "                    ref = e_available[0] # We take the first elevator on the list for reference.\n",
    "                    dif_ref = abs(ref.location - floor_departure) \n",
    "                    # The gap between the floor where the elevator is curently located and the floor where the user is \n",
    "                    # waiting corresponds to the absolute value of the difference of the two floors.\n",
    "                    for evt in e_available : # We go through the list of the elevators available.\n",
    "                        dif = abs(evt.location - floor_departure)\n",
    "                        if dif < dif_ref : # We compare the gap with the elevator of reference.\n",
    "                            ref = evt # If the gap is smaller, the elevator becomes the reference elevator..\n",
    "                            dif_ref = dif\n",
    "                if ref.location == floor_departure : # If the elevator already is at the same floor than the user\n",
    "                    ref.nb_user += 1 # The user takes the elevator\n",
    "                    u[index_number_u].loc_memory.append(ref.location)\n",
    "                    u[index_number_u].time_memory.append(t)\n",
    "                    u[index_number_u].wait = 0\n",
    "                    u[index_number_u].status = \"free\"\n",
    "                    ref.mission = [floor_arrival,\"drop\",0,index_number_u,purpose] \n",
    "                    # the goal of the elevator is to go to the floor of destination of the user and drop him there.\n",
    "                    if floor_arrival - ref.location > 0 :\n",
    "                        ref.mvmt = 1\n",
    "                    else :\n",
    "                        ref.mvmt = -1\n",
    "                    ref.energy_cost += START_COST # the elevator starts up which implies an energy cost\n",
    "                else : # otherwise\n",
    "                    ref.mission = [floor_departure,\"pick up\",floor_arrival,index_number_u,purpose] \n",
    "                    # the goal of the elevator is to pick up the user.\n",
    "                    if floor_departure - ref.location > 0 :\n",
    "                        ref.mvmt = 1\n",
    "                    else :\n",
    "                        ref.mvmt = -1\n",
    "                    ref.energy_cost += START_COST\n",
    "           \n",
    "            # If there is no elevator available in this category, we reach the third category\n",
    "            if e_available==[]:\n",
    "                for evt in e[int(3*NB_EVT/4):] : # We go through the list of the elevators\n",
    "                    if evt.mission == []: # If the elevator is not doing anything, in means it is available\n",
    "                        e_available.append(evt) # We add it to the list of the available elevators  \n",
    "            if e_available != [] : # We look if there is an elevator available.\n",
    "                if len(e_available) == 1 : # If there is only one elevator available, we choose it.\n",
    "                    ref = e_available[0]\n",
    "                else : # Otherwise, we look for the closest elevator available.\n",
    "                    ref = e_available[0] # We take the first elevator on the list for reference.\n",
    "                    dif_ref = abs(ref.location - floor_departure) \n",
    "                    # The gap between the floor where the elevator is curently located and the floor where the user is waiting \n",
    "                    # corresponds to the absolute value of the difference of the two floors. \n",
    "                    for evt in e_available : # We go through the list of available elevators\n",
    "                        dif = abs(evt.location - floor_departure)\n",
    "                        if dif < dif_ref : # We compare the gap with the elevator of reference.\n",
    "                            ref = evt # If the gap is smaller, the elevator becomes the reference elevator.\n",
    "                            dif_ref = dif\n",
    "                if ref.location == floor_departure : # If the elevator already is at the same floor than the user\n",
    "                    ref.nb_user += 1 # the user takes the elevator\n",
    "                    u[index_number_u].loc_memory.append(ref.location)\n",
    "                    u[index_number_u].time_memory.append(t)\n",
    "                    u[index_number_u].wait = 0\n",
    "                    u[index_number_u].status = \"free\"\n",
    "                    ref.mission = [floor_arrival,\"drop\",0,index_number_u,purpose] \n",
    "                    # the goal of the elevator is to go to the floor of destination of the user and drop him there.\n",
    "                    if floor_arrival - ref.location > 0 :\n",
    "                        ref.mvmt = 1\n",
    "                    else :\n",
    "                        ref.mvmt = -1\n",
    "                    ref.energy_cost += START_COST # The elevator starts up which implies an energy cost.\n",
    "                else : # otherwise\n",
    "                    ref.mission = [floor_departure,\"pick up\",floor_arrival,index_number_u,purpose] \n",
    "                    # the goal of the elevator is to pick up the user.\n",
    "                    if floor_departure - ref.location > 0 :\n",
    "                        ref.mvmt = 1\n",
    "                    else :\n",
    "                        ref.mvmt = -1\n",
    "                    ref.energy_cost += START_COST\n",
    "                    \n",
    "            else : # if none elevator is available\n",
    "                #u[index_number_u].wait += step\n",
    "                #u[index_number_u].cumul_wait_time += step # the user waits\n",
    "                ind = list_evnt_evt_ord.index([t,floor_departure,floor_arrival,index_number_u,purpose])\n",
    "                if u[index_number_u].wait < LOSEP_DURATION  :\n",
    "                    list_evnt_evt_ord.insert(ind+1,[t+step,floor_departure,floor_arrival,index_number_u,purpose]) \n",
    "                    # we add the step to the date of the event.\n",
    "                    u[index_number_u].status = \"wait\"\n",
    "                elif u[index_number_u].wait % LOSEP_DURATION  == 0 :\n",
    "                    u[index_number_u].proba_down_st = min(1, u[index_number_u].proba_down_st * LOSEP_FACTOR)\n",
    "                    u[index_number_u].proba_up_st = min(1, u[index_number_u].proba_up_st * LOSEP_FACTOR)\n",
    "                    (m,d) = u[index_number_u].proba_evt() #, u[index_number_u].proba_down_st, u[index_number_u].proba_up_st)\n",
    "                    if u[index_number_u].floor == 0:\n",
    "                        if m == 1:\n",
    "                            #u[index_number_u].wait = 0\n",
    "                            list_evnt_evt_ord.insert(ind+1,[t+step,floor_departure,floor_arrival,index_number_u,purpose])\n",
    "                            # we add the step to the date of the event.\n",
    "                            u[index_number_u].status = \"wait\"\n",
    "                        else:\n",
    "                            nb_ride_st+=1\n",
    "                            withdrawal+=1\n",
    "                            u[index_number_u].wait = 0\n",
    "                            u[index_number_u].status = \"free\"\n",
    "                    else:\n",
    "                        if d == 1:\n",
    "                            #u[index_number_u].wait = 0\n",
    "                            list_evnt_evt_ord.insert(ind+1,[t+step,floor_departure,floor_arrival,index_number_u,purpose]) \n",
    "                            # we add the step to the date of the event.\n",
    "                            u[index_number_u].status = \"wait\"\n",
    "                        else:\n",
    "                            nb_ride_st+=1\n",
    "                            withdrawal+=1\n",
    "                            u[index_number_u].wait = 0\n",
    "                            u[index_number_u].status = \"free\"\n",
    "                #wait_list.append([t+step,floor_departure,floor_arrival,index_number_u,purpose])\n",
    "                #u[index_number_u].status = \"wait\"\n",
    "                #wait_list.append(u[index_number_u])\n",
    "        return (nb_ride_st,withdrawal)"
   ]
  },
  {
   "cell_type": "markdown",
   "id": "dd145f70",
   "metadata": {},
   "source": [
    "#### Class of the elevators"
   ]
  },
  {
   "cell_type": "markdown",
   "id": "ce14aca7",
   "metadata": {},
   "source": [
    "Definition of the constants"
   ]
  },
  {
   "cell_type": "code",
   "execution_count": 13,
   "id": "573aba26",
   "metadata": {},
   "outputs": [],
   "source": [
    "START_COST = 0.0046 #[kWh]\n",
    "RIDE_COST_UP  = 0.0015 #[kWh/s] \n",
    "RIDE_COST_DOWN = 0.00075 #[kWh/s]\n",
    "\n",
    "\n",
    "CONV_WATTH_EU = 0.1765 #eur/kWh, to convert the ernergy consumption in euro \n",
    "\n",
    "SPEED = 1 # m/s  \n",
    "CAPACITY = 4 # people"
   ]
  },
  {
   "cell_type": "markdown",
   "id": "e55e6713",
   "metadata": {},
   "source": [
    "##### These constants allows us to calculate the energy cost, according to the following formula :\n",
    "\n",
    "energy_cost = START_COST + RIDE_COST * nb_visited_floor * (1 + nbr_user * AVG_WEIGHT)\n",
    "\n",
    "about the financial cost : \n",
    "\n",
    "move_cost = energy_cost * CONV_WATTH_EU\n",
    "\n"
   ]
  },
  {
   "cell_type": "markdown",
   "id": "3b40c464",
   "metadata": {},
   "source": [
    "### Definition of the class"
   ]
  },
  {
   "cell_type": "markdown",
   "id": "6a37925f",
   "metadata": {},
   "source": [
    "The *pos* method will allow to modify the elevator location over time, it takes into account its current location **location**, its speed **SPEED** (which is constant and identical for each ride) and the floor where the elevator has to stop.\n",
    "\n",
    "**SPEED** is a constant, **location** is an attribute of the Elevator Class and the desired floor is an input value. "
   ]
  },
  {
   "cell_type": "markdown",
   "id": "5398164d",
   "metadata": {},
   "source": [
    "We finally define the class. Most of the attributes are initialized at 0."
   ]
  },
  {
   "cell_type": "code",
   "execution_count": 14,
   "id": "2f346413",
   "metadata": {},
   "outputs": [],
   "source": [
    "class Elevator:\n",
    "\n",
    "    def __init__(self):\n",
    "\n",
    "        self.location = 0\n",
    "        self.state = 0  #0 if si unused, 1 otherwise\n",
    "        self.nb_user = 0\n",
    "        self.passenger_charge = self.nb_user * AVG_WT #kg\n",
    "        self.mvmt = 0  #0 : door opened , 1 : go up, -1 : go down\n",
    "        self.nb_visited_floor = 0\n",
    "        self.cumul_open_door_time = 0\n",
    "        self.cumul_ride_time = 0\n",
    "        self.energy_cost = 0\n",
    "        #self.energy_cost = START_COST + RIDE_COST * self.nb_visited_floor * (1 + self.passenger_charge)\n",
    "        self.mission = []\n",
    "        self.loc_memory = []\n",
    "\n",
    "\n",
    "    def __str__(self):\n",
    "\n",
    "        return(\"Cumulative open door time : {} \\nCumulative ride time : {} \\nEnergy cost : {}\".format(self.cumul_open_door_time, self.cumul_ride_time, self.energy_cost))\n",
    "\n",
    "\n",
    "    def loc(self, desired_floor, step):\n",
    "    # First of all we check if the elevator has to go up or down\n",
    "    # or if there is an entry error that is to say when the location equal to the desired floor\n",
    "        if self.location - desired_floor < 0 :\n",
    "            height = self.location*FLOOR_HEIGHT\n",
    "            height+= SPEED * step\n",
    "            #SPEED * step is the distance travelled during \"step\"\n",
    "            self.location = min(height/FLOOR_HEIGHT, desired_floor)\n",
    "            # There is a good chance that at the last second the elevator arrives too high\n",
    "            # we have to make sure that the location is lower or equal than the desired floor\n",
    "            # hence the command 'min'.\n",
    "            # Inside the min, the location is replayed relatively to the floors\n",
    "            self.energy_cost += RIDE_COST_UP  * ((SPEED*step)/FLOOR_HEIGHT) * (1 + self.passenger_charge)\n",
    "     \n",
    "\n",
    "        elif self.location - desired_floor > 0 :\n",
    "            height = self.location*FLOOR_HEIGHT\n",
    "            height-= SPEED * step\n",
    "            self.location = max(height/FLOOR_HEIGHT, desired_floor)\n",
    "            # it is the same code as above except that the location decreases with time\n",
    "            # and the min command is transformed into max\n",
    "            self.energy_cost += RIDE_COST_DOWN * ((SPEED*step)/FLOOR_HEIGHT) * (1 + self.passenger_charge)\n",
    "        else :\n",
    "            print(\"the elevator already is at the desired floor\")\n",
    " "
   ]
  },
  {
   "cell_type": "markdown",
   "id": "32acb392",
   "metadata": {},
   "source": [
    "### Outside classes"
   ]
  },
  {
   "cell_type": "markdown",
   "id": "fe9dd5dc",
   "metadata": {},
   "source": [
    "The *creation_evnt_evt* function takes for input the u list that gathers all users' instances. It recovers all the movements informations that we have at the beginning of the simulation. It recovers elevator informations only. It creates the inital event list so it is called up only once, at the beginning of each replication. \n",
    "Events are collected in the following form : *(h_evnt, floor_departure, destination_floor, user_index)*"
   ]
  },
  {
   "cell_type": "code",
   "execution_count": 15,
   "id": "0257a2b5",
   "metadata": {},
   "outputs": [],
   "source": [
    "def creation_evnt_evt (u,nb_ride_st):\n",
    "    # In this function, the same pattern is repeated : first we look if the event occurs,\n",
    "    # if it occurs, we look if the user takes the elevator\n",
    "    # in this case we add it to the list evnt (h_evnt, floor_departure, destination_floot, user_index).\n",
    "    # If the traveller takes the stairs, we add up 1 to nb_ride_st.\n",
    "    evnt = []\n",
    "    for k in range(len(u)):\n",
    "        if u[k].bf_h != 0:\n",
    "            if u[k].bf_down == 1:\n",
    "                evnt.append([u[k].bf_h, u[k].floor, 0, k, \"bf_down\"])\n",
    "            else:\n",
    "                nb_ride_st+=1\n",
    "\n",
    "        if u[k].co_h != 0:\n",
    "            if u[k].co_down == 1:\n",
    "                evnt.append([u[k].co_h, u[k].floor, 0, k, \"co_down\"])\n",
    "            else:\n",
    "                nb_ride_st+=1\n",
    "\n",
    "        if u[k].ci_up == 1:\n",
    "            evnt.append([u[k].ci_h, 0, u[k].floor, k, \"ci_up\"])\n",
    "        else:\n",
    "            nb_ride_st+=1\n",
    "\n",
    "        if u[k].go_out_h != 0:\n",
    "            if u[k].go_out_down == 1:\n",
    "                evnt.append([u[k].go_out_h, u[k].floor, 0, k, \"go_out_down\"])\n",
    "            else:\n",
    "                nb_ride_st+=1\n",
    "\n",
    "        if u[k].down_h != 0:\n",
    "            if u[k].down_down == 1:\n",
    "                evnt.append([u[k].down_h, u[k].floor, 0, k, \"down_down\"])\n",
    "            else:\n",
    "                nb_ride_st+=1\n",
    "\n",
    "    return (evnt,nb_ride_st)"
   ]
  },
  {
   "cell_type": "markdown",
   "id": "53ecbef7",
   "metadata": {},
   "source": [
    "The *evnt_ord* function takes any list of events and orders the events in chronological order. To do so, events have to be written in the same manner because we use the *sorted* function.\n",
    "\n",
    "This function allows to order a list, but our case is more complex as we use a list of list. To order according to the first item of the list (because this is where you find the hour of the event) we need to use a **key** that asks the *sorted* function to consider the first item of the list only.\n",
    "We create this key and we call it take_first (because we take the first item).\n",
    "\n",
    "In adition to puting in order the events, we have to verify that there are not several events occurring at the same moment. If it happens, we shift one of the event by one second."
   ]
  },
  {
   "cell_type": "code",
   "execution_count": 16,
   "id": "ab9cad19",
   "metadata": {},
   "outputs": [],
   "source": [
    "def take_first(l):\n",
    "    return(l[0])\n",
    "\n",
    "\n",
    "def evnt_ordin (evnt):\n",
    "    evnt_ord = sorted(evnt, key = take_first)\n",
    "    k = 0\n",
    "    while k <= len(evnt_ord)-2:\n",
    "        if evnt_ord[k][0] >= evnt_ord[k+1][0]:\n",
    "        # We check if two consecutive values are equal with the test \">=\", \n",
    "        # We will see why we use this peculiar test further in the code\n",
    "            j=k\n",
    "            while k <= len(evnt_ord)-2 and evnt_ord[k][0] >= evnt_ord[k+1][0]:\n",
    "            # it is possible to have are more than 2 consecutive equal values (even if it is unlikely).\n",
    "                k+=1\n",
    "            for i in range(j,k):\n",
    "                evnt_ord[i+1][0] = evnt_ord[i][0] + 1\n",
    "                # we collected all of the consecutive equal values\n",
    "                # we start from the first one (index j)\n",
    "                # to the last one (index k) and we add up 1.\n",
    "                # this method allows us to increase a value until it exceeds the following one\n",
    "                # hence the utility of \">=\" test compared to the \"==\" simple test.\n",
    "        else:\n",
    "            k+=1\n",
    "    return(evnt_ord)\n",
    "        \n",
    "\n"
   ]
  },
  {
   "cell_type": "markdown",
   "id": "9487d0f1",
   "metadata": {},
   "source": [
    "# Simulation"
   ]
  },
  {
   "cell_type": "markdown",
   "id": "fe6be0d9",
   "metadata": {
    "slideshow": {
     "slide_type": ""
    }
   },
   "source": [
    "For the simulation, we initialize time values and create all of the instances of the different classes."
   ]
  },
  {
   "cell_type": "markdown",
   "id": "0aa9bdc1",
   "metadata": {},
   "source": [
    "These cells are entirely commented. They are only meant to explain what is in the simulation command. All of these commands will be used later on."
   ]
  },
  {
   "cell_type": "markdown",
   "id": "516f4e5a",
   "metadata": {},
   "source": [
    "Time initialization"
   ]
  },
  {
   "cell_type": "code",
   "execution_count": 17,
   "id": "55adc2e7",
   "metadata": {},
   "outputs": [],
   "source": [
    "#start_simu = 12*3600 s   the simulation starts at noon\n",
    "\n",
    "#fin_simu = (12+24)*3600    it ends at noon the next day\n",
    "##fin_simu = 24*3600\n",
    "\n",
    "#t = start_simu\n",
    "#step = 1 s"
   ]
  },
  {
   "cell_type": "markdown",
   "id": "a3f0c377",
   "metadata": {},
   "source": [
    "Hotel creation"
   ]
  },
  {
   "cell_type": "markdown",
   "id": "3d7ea45d",
   "metadata": {},
   "source": [
    "There is only one hotel so we can create the instance directly"
   ]
  },
  {
   "cell_type": "code",
   "execution_count": 18,
   "id": "74bb4e6d",
   "metadata": {},
   "outputs": [],
   "source": [
    "#hotel1 = Hotel()   creation of hotel1 instance\n",
    "\n",
    "#Hotel.nb_trav(hotel1)   definition of the number of travelers\n",
    "#available_floor = [0] + hotel1.NB_FLORR * [hotel1.NB_ROOM_PER_FLOOR]    definition of the floors availability"
   ]
  },
  {
   "cell_type": "markdown",
   "id": "6bb30b35",
   "metadata": {},
   "source": [
    "Users creation"
   ]
  },
  {
   "cell_type": "markdown",
   "id": "0888ae35",
   "metadata": {},
   "source": [
    "For users and elevators, the number of instances is variable. Then, in order to create the list of elevators and user, we start with an empty list and we add in this list as many instances as we need. Later on, the instances will be called this way. \\n\\\n",
    "The n user will be *instance_user_list[n-1]*"
   ]
  },
  {
   "cell_type": "code",
   "execution_count": 19,
   "id": "3c0b3974",
   "metadata": {},
   "outputs": [],
   "source": [
    "#u = []  u is our users instances list\n",
    "\n",
    "#for k in range(hotel1.NB_TRAV):\n",
    "    #u.append(Customer())\n",
    "    \n"
   ]
  },
  {
   "cell_type": "markdown",
   "id": "80270db9",
   "metadata": {},
   "source": [
    "Elevators creation"
   ]
  },
  {
   "cell_type": "code",
   "execution_count": 20,
   "id": "1dd906bb",
   "metadata": {},
   "outputs": [],
   "source": [
    "#e = []  e is the elevators instances list\n",
    "\n",
    "#for k in range (hotel1.NB_ASC) :\n",
    "    #e.append(Elevator())\n"
   ]
  },
  {
   "cell_type": "markdown",
   "id": "c8a28c34",
   "metadata": {},
   "source": [
    "Then we create our first events list"
   ]
  },
  {
   "cell_type": "code",
   "execution_count": 21,
   "id": "fc5dd510",
   "metadata": {},
   "outputs": [],
   "source": [
    "#(list_evnt_evt,nb_ride_st) = creation_evnt_st(u)\n",
    "#list_evnt_evt_ord = evnt_ordin(list_evnt_st) #we order the events list"
   ]
  },
  {
   "cell_type": "markdown",
   "id": "b0140ba8",
   "metadata": {},
   "source": [
    "Our *simulation* function takes for argument the number of replications. As the events are based on probabilities, we have to make a large number of replications. "
   ]
  },
  {
   "cell_type": "code",
   "execution_count": 22,
   "id": "69fb7ad6",
   "metadata": {},
   "outputs": [],
   "source": [
    "def simulation(nb_replication):  \n",
    "    \n",
    "    # We initialize the four following values that will change through the diferent replications\n",
    "    # Those lists will enable us to do our analysis later on\n",
    "    # They allow to collect the results of the different replications to make comparisons\n",
    "    \n",
    "    tot_add_up_wait = []  \n",
    "    \n",
    "    tot_nb_st_ride = []\n",
    "    \n",
    "    tot_energy_cost = []\n",
    "    \n",
    "    tot_withdrawal = []\n",
    "    \n",
    "    \n",
    "    for simu in range(nb_replication):\n",
    "    \n",
    "        wait_list = []\n",
    "\n",
    "        T = [] #time list for graphics\n",
    "\n",
    "        start_simu = 12*3600 #s  the simulation begins at noon\n",
    "        end_simu = (12+24)*3600 # it ends at noon on the next day\n",
    "        #end_simu = 24*3600\n",
    "        t = start_simu\n",
    "        step = 1 #s\n",
    "\n",
    "        withdrawal = 0\n",
    "        nb_ride_st = 0\n",
    "        hotel1 = Hotel() #creation of hotel1 instance\n",
    "        Hotel.nb_trav(hotel1) #definition of the number of travellersdu nombre de voyageurs\n",
    "        available_floor = [0] + hotel1.NB_FLOOR * [hotel1.NB_ROOM_PER_FLOOR] #definition of the floors availability\n",
    "        \n",
    "\n",
    "\n",
    "        u=[]\n",
    "        for k in range(hotel1.NB_TRAV):\n",
    "            u.append(Customer(available_floor))\n",
    "\n",
    "        e = []\n",
    "        for k in range (hotel1.NB_EVT) :\n",
    "            e.append(Elevator())\n",
    "\n",
    "        (list_evnt_evt,nb_ride_st) = creation_evnt_evt(u,nb_ride_st)\n",
    "        list_evnt_evt_ord = evnt_ordin(list_evnt_evt) # we order the events list\n",
    "        while t < end_simu :\n",
    "            T.append(t)\n",
    "            for event in list_evnt_evt_ord : # we go through the events of the elevator in the chronological order\n",
    "                if event[0] == t : \n",
    "                # we consider that within a step of 1s, two events can not occur simultaneously\n",
    "                # if an event occurs\n",
    "                    floor_departure = event[1]\n",
    "                    floor_arrival = event[2]\n",
    "                    index_number_u = event[3]\n",
    "                    purpose = event[4]\n",
    "                    (nb_ride_st,withdrawal) = Hotel.pilote1(floor_departure, floor_arrival, index_number_u, purpose, t, e, u, list_evnt_evt_ord, step, wait_list,nb_ride_st,withdrawal)\n",
    "                elif event[0] > t :\n",
    "                # if an event occurs after t , \n",
    "                # it is true for all the following events of the list because the list is ordered chronologically\n",
    "                # so we don't need to go through the rest of the list\n",
    "                    break \n",
    "\n",
    "            for evt in e : # we go through the list of elevators\n",
    "                evt.loc_memory.append(evt.location)\n",
    "                if evt.mission != [] : # we check if it has a mission\n",
    "                    \n",
    "                    #Elevator.loc(evt,evt.mission[0]) # we move the elevator to its goal\n",
    "                    #evt.cumul_ride_time += 1 # we add a step to the cumul ride time\n",
    "                    \n",
    "                    index_number_u = evt.mission[3]\n",
    "                    purpose = evt.mission[4]\n",
    "                    if evt.mission[1] == \"pick up\": #if the elevator has to pick up someone\n",
    "                        u[index_number_u].wait += step #the user waits\n",
    "                        u[index_number_u].cumul_wait_time += step\n",
    "                    if evt.location == evt.mission[0] : #if the elevator reached its goal\n",
    "                        if evt.mission[1] == \"drop\" :\n",
    "                            evt.nb_user -= 1\n",
    "                            evt.mvmt = 0\n",
    "                            u[index_number_u].loc_memory.append(evt.location)\n",
    "                            u[index_number_u].time_memory.append(t)\n",
    "                            if purpose == \"bf_down\" : \n",
    "                            # if the elevator drops a customer which is going down do have breakfast\n",
    "                            # then we know when the user will go up back.\n",
    "                                bool = u[index_number_u].proba_evt()[0] \n",
    "                                # we ckeck if the user uses the stairs or the elevator\n",
    "                                if bool == 1 : #if he uses the Elevator\n",
    "                                    list_evnt_evt_ord.append([t+u[index_number_u].bf_duration,0,u[index_number_u].floor,index_number_u,\"bf_up\"])\n",
    "                                    # we add up the event of going up after the breakfast\n",
    "                                    # in the elevator events list\n",
    "                            elif purpose == \"bf_up\" : \n",
    "                            # if the elevator drops the user at his floor so he can brush its teeth ,\n",
    "                            # we know when the user will go down to check-out\n",
    "                                bool = u[index_number_u].proba_evt()[1] \n",
    "                                # we check if the user uses the elevator or the stairs\n",
    "                                if bool == 1 : #if he goes down by elevator\n",
    "                                    list_evnt_evt_ord.append([t+BRUSHING_TEETH_DURATION,u[index_number_u].floor,0,index_number_u,\"co_down\"]) \n",
    "                                    # we add the going down to check-out event after brushing teeth\n",
    "                                    # in the elevator list of events\n",
    "                            elif purpose == \"go_out_down\" : \n",
    "                            # if the elevator has just droped the user for his outing\n",
    "                            # we know when he will go back\n",
    "                                bool = u[index_number_u].proba_evt()[0]\n",
    "                                # we check if he goes up by the elevator or by the stairs \n",
    "                                if bool == 1 : # if he goes up by the elevator \n",
    "                                    list_evnt_evt_ord.append([t+u[index_number_u].go_out_duration,0,u[index_number_u].floor,index_number_u,\"go_out_up\"]) \n",
    "                                    # we add the event \"go_out_up\" after his outing\n",
    "                                    # in the elevator events list\n",
    "                            elif purpose == \"down_down\" :\n",
    "                            # if the elevator has just droped the user going down to the lobby,\n",
    "                            # we know when he will go up to his room\n",
    "                                bool = u[index_number_u].proba_evt()[0] \n",
    "                                # we check if he uses the elevator or the stairs \n",
    "                                if bool == 1 : # if he uses the elevator\n",
    "                                    list_evnt_evt_ord.append([t+DURATION_DOWN,0,u[index_number_u].floor,index_number_u,\"up_down\"])\n",
    "                                    # we add the go up event after going down to the lobby \n",
    "                                    # in the event elevator list\n",
    "                            evt.mission = []\n",
    "                        elif evt.mission[1] == \"pick up\" : #if the elevator picks someone up\n",
    "                            evt.nb_user += 1 # then the user takes the elevator\n",
    "                            u[index_number_u].loc_memory.append(evt.location)\n",
    "                            u[index_number_u].time_memory.append(t)\n",
    "                            u[index_number_u].wait = 0 # its wait reboots\n",
    "                            u[index_number_u].status = \"free\" # the user is not waiting anymore\n",
    "                            evt.mission = [evt.mission[2],\"drop\",0,index_number_u,purpose] # the new mission of the elevator is to drop the user\n",
    "                            if evt.mission[0] - evt.location > 0 :\n",
    "                                evt.mvmt = 1\n",
    "                            else :\n",
    "                                evt.mvmt = -1\n",
    "                        #print(evt.location,evt.mission)\n",
    "                    if evt.mission != [] :\n",
    "                        Elevator.loc(evt,evt.mission[0], step) #we move the elevator to its purpose\n",
    "                        evt.cumul_ride_time += 1 #we add a step to the cumulative ride time\n",
    "            #k = 0\n",
    "            #while list_event_evt_ord[k][0] > t :\n",
    "                #k+=1\n",
    "                #if k = len(list_evnt_evt_ord) :\n",
    "                   #break\n",
    "            for user in u :\n",
    "                if user.status == \"wait\": # if a user waits for an elevator to be available\n",
    "                    user.wait += step # we ads step to its wait per event\n",
    "                    user.cumul_wait_time += step # we also add a step to its global wait\n",
    "            list_evnt_evt_ord = evnt_ordin(list_evnt_evt_ord) # we put the events list back in order because we added some events\n",
    "            \n",
    "            t+=step # we go to the next time t\n",
    "\n",
    "\n",
    "            #X = []\n",
    "\n",
    "            #for x in T : #time conversion into hours\n",
    "                #x = x/3600\n",
    "                #if x > 24 :\n",
    "                    #x -= 24\n",
    "                #X.append(x)\n",
    "\n",
    "            #plt.figure(1)\n",
    "            #plt.grid(True)\n",
    "\n",
    "            #for evt in e :\n",
    "                #plt.plot(X,evt.loc_memory)\n",
    "\n",
    "            #plt.xlabel('time (in h)')\n",
    "            #plt.ylabel('floor')\n",
    "            #plt.title('elevator ride as a function of time')\n",
    "            #plt.axvspan(xmin=22, xmax=30, facecolor='b', alpha = 0.5)\n",
    "\n",
    "            #for user in u :\n",
    "                #XU = []\n",
    "                #for x in user.time_memory :\n",
    "                    #x = x/3600\n",
    "                    #XU.append(x)\n",
    "                #plt.plot(XU,user.loc_memory,'--o',linewidth=3)\n",
    "            #plt.xlabel('time (in h)')\n",
    "            #plt.ylabel('time')\n",
    "\n",
    "            #plt.show(2)\n",
    "            \n",
    "        #at each replication we add the important items to the corresponding lists\n",
    "      \n",
    "        \n",
    "        tot_add_up_wait.append([])\n",
    "        for us in u:\n",
    "            tot_add_up_wait[len(tot_add_up_wait)-1].append(us.cumul_wait_time)\n",
    "\n",
    "        tot_nb_st_ride.append(nb_ride_st)\n",
    "        \n",
    "        tot_withdrawal.append(withdrawal)\n",
    "\n",
    "\n",
    "        tot_energy_cost.append([])\n",
    "        for evt in e:\n",
    "            tot_energy_cost[len(tot_energy_cost)-1].append(evt.energy_cost)\n",
    "\n",
    "    print(hotel1)   \n",
    "    return(tot_add_up_wait, tot_nb_st_ride, tot_energy_cost, tot_withdrawal)\n",
    "    \n",
    "    \n",
    "\n",
    "    "
   ]
  },
  {
   "cell_type": "markdown",
   "id": "b8204ee4",
   "metadata": {},
   "source": [
    "\n",
    "# this is where the simulation of the hotel is executed"
   ]
  },
  {
   "cell_type": "code",
   "execution_count": 23,
   "id": "04f13065",
   "metadata": {},
   "outputs": [
    {
     "name": "stdout",
     "output_type": "stream",
     "text": [
      "The charateristics of the hotel are : \n",
      " - 12 floors \n",
      " - 3 elevators \n",
      " - 89 travellers \n",
      " - 15 rooms per floors\n"
     ]
    }
   ],
   "source": [
    "NB_REPLI=11\n",
    "(tot_add_up_wait, tot_nb_st_ride, tot_energy_cost, withdrawal) = simulation(NB_REPLI)"
   ]
  },
  {
   "cell_type": "markdown",
   "id": "8990ac7f",
   "metadata": {},
   "source": [
    "### Now we can do basic analysis of a few indicators"
   ]
  },
  {
   "cell_type": "markdown",
   "id": "faf48ca3",
   "metadata": {},
   "source": [
    "We collect in a list the medians and the average cumulative wait for each replication. We also create a list containing all of the cumulative wait time per passenger all replications combined."
   ]
  },
  {
   "cell_type": "code",
   "execution_count": 24,
   "id": "b18124ec",
   "metadata": {},
   "outputs": [],
   "source": [
    "add_up_wait_list = []\n",
    "median_wait_list = []\n",
    "avg_wait_list = []\n",
    "\n",
    "for l in tot_add_up_wait:\n",
    "    add_up_wait_list= add_up_wait_list+ l\n",
    "    median_wait_list.append(statistics.median(l))\n",
    "    avg_wait_list.append(np.mean(l))"
   ]
  },
  {
   "cell_type": "code",
   "execution_count": 25,
   "id": "fec5076a",
   "metadata": {},
   "outputs": [
    {
     "name": "stdout",
     "output_type": "stream",
     "text": [
      "                                   Wait time (in s) for a passenger\n",
      "average all replications combined                             41.81\n",
      "median all replications combined                              32.50\n",
      "    Average add up wait / replication  Mediane add up wait / replication\n",
      "1                               39.31                               34.0\n",
      "2                               44.82                               32.0\n",
      "3                               27.97                               28.0\n",
      "4                               42.57                               33.0\n",
      "5                               45.97                               35.0\n",
      "6                               41.03                               32.5\n",
      "7                               44.08                               35.0\n",
      "8                               40.64                               31.0\n",
      "9                               31.86                               30.0\n",
      "10                              46.55                               36.5\n",
      "11                              40.12                               29.0\n"
     ]
    },
    {
     "data": {
      "image/png": "[encoded data removed]",
      "text/plain": [
       "<Figure size 432x288 with 1 Axes>"
      ]
     },
     "metadata": {
      "needs_background": "light"
     },
     "output_type": "display_data"
    },
    {
     "name": "stdout",
     "output_type": "stream",
     "text": [
      "                                   Variance  Standard deviation\n",
      "Average add up wait / replication     33.58                5.79\n",
      "Mediane add up wait / replication      7.20                2.68\n"
     ]
    }
   ],
   "source": [
    "if NB_REPLI==1 :\n",
    "    index=[\"Average for a traveller\",\"Median for a traveller\"]\n",
    "    df=pd.DataFrame(data=[round(np.mean(add_up_wait_list),2),round(statistics.median(add_up_wait_list),2)],index=index,columns=[\"Wait time (in s)\"])\n",
    "    print(df)\n",
    "else :\n",
    "    index1=[\"average all replications combined\",\"median all replications combined\"]\n",
    "    index2=[\"Average add up wait / replication\",\"Mediane add up wait / replication\"]\n",
    "    columns=[i+1 for i in range (NB_REPLI)]\n",
    "    df_1=pd.DataFrame(data=[round(np.mean(add_up_wait_list),2),round(statistics.median(add_up_wait_list),2)],index=index1,columns=[\"Wait time (in s) for a passenger\"])\n",
    "    print(df_1)\n",
    "    df_2=pd.DataFrame(data=[np.round(avg_wait_list,2),median_wait_list],index=index2,columns=columns)\n",
    "    print(pd.DataFrame.transpose(df_2))\n",
    "    \n",
    "    # we draw the average and mediane add up wait for every replication\n",
    "    plt.figure(1)\n",
    "    plt.plot([i+1 for i in range (NB_REPLI)],median_wait_list,\"b:o\",label=\"median add up wait (s)\")\n",
    "    plt.plot([i+1 for i in range (NB_REPLI)],avg_wait_list,\"m:o\",label=\"average add up wait (s)\")\n",
    "    plt.legend()\n",
    "    plt.xlabel(\"replication\")\n",
    "    plt.title(\"graph of the average and mediane add up wait for every replication\")\n",
    "    plt.show()\n",
    "    \n",
    "    if NB_REPLI>10 : # we calculate the variance, bellow 10 replications it is not very indicative\n",
    "        data=np.array([[round(statistics.variance(avg_wait_list),2),round(statistics.stdev(avg_wait_list),2)],[round(statistics.variance(median_wait_list),2),round(statistics.stdev(median_wait_list),2)]])\n",
    "        index=[\"Average add up wait / replication\",\"Mediane add up wait / replication\"]\n",
    "        columns=[\"Variance\",\"Standard deviation\"] \n",
    "        df=pd.DataFrame(data=data,index=index,columns=columns)\n",
    "        print(df)\n"
   ]
  },
  {
   "cell_type": "code",
   "execution_count": 26,
   "id": "79f6dbd0",
   "metadata": {},
   "outputs": [
    {
     "name": "stdout",
     "output_type": "stream",
     "text": [
      "the median all replications combined is:  32.5\n"
     ]
    },
    {
     "data": {
      "image/png": "[encoded data removed]",
      "text/plain": [
       "<Figure size 432x288 with 1 Axes>"
      ]
     },
     "metadata": {
      "needs_background": "light"
     },
     "output_type": "display_data"
    }
   ],
   "source": [
    "print(\"the median all replications combined is: \", statistics.median(add_up_wait_list))\n",
    "\n",
    "plt.boxplot(tot_add_up_wait)\n",
    "plt.xlabel(\"replication\")\n",
    "plt.ylabel(\"cumulative wait time (s)\")\n",
    "plt.title(\"graphic of cumulative wait time for each replication\")\n",
    "plt.show()"
   ]
  },
  {
   "cell_type": "code",
   "execution_count": 27,
   "id": "334d7d6c",
   "metadata": {},
   "outputs": [
    {
     "name": "stdout",
     "output_type": "stream",
     "text": [
      "                   Rides by the stairs / replication\n",
      "Number on average                              37.00\n",
      "Variance                                      140.87\n",
      "Standar Deviation                              11.87\n"
     ]
    }
   ],
   "source": [
    "if NB_REPLI<=10: \n",
    "    print(\"On average there are\", round(np.mean(tot_nb_st_ride)),\" stairs ride all replications combined.\")\n",
    "else : # sinon la variance n'est pas très significative\n",
    "    index=[\"Number on average\",\"Variance\",\"Standar Deviation\"]\n",
    "    data=[round(np.mean(tot_nb_st_ride)),round(statistics.variance(tot_nb_st_ride),2),round(statistics.stdev(tot_nb_st_ride),2)]\n",
    "    df=pd.DataFrame(data=data,index=index,columns=[\"Rides by the stairs / replication\"])\n",
    "    print(df)"
   ]
  },
  {
   "cell_type": "code",
   "execution_count": 28,
   "id": "e1a050bd",
   "metadata": {},
   "outputs": [],
   "source": [
    "energy_cost_list = []\n",
    "avg_energy_list = []\n",
    "median_energy_list = []\n",
    "\n",
    "for l in tot_energy_cost:\n",
    "    energy_cost_list = energy_cost_list + l\n",
    "    median_energy_list.append(statistics.median(l))\n",
    "    avg_energy_list.append(np.mean(l))"
   ]
  },
  {
   "cell_type": "code",
   "execution_count": 29,
   "id": "f29e1029",
   "metadata": {
    "scrolled": true
   },
   "outputs": [
    {
     "name": "stdout",
     "output_type": "stream",
     "text": [
      "                              Average energy cost (kWh)\n",
      "For an elevator during a day                       1.41\n",
      "Overall during a day                               4.23\n",
      "                                             Variance  Standard Deviation\n",
      "Average energy cost of an elevator / simul.      0.28                0.53\n"
     ]
    }
   ],
   "source": [
    "index=[\"For an elevator during a day\",\"Overall during a day\"]\n",
    "df_1=pd.DataFrame(data=[round(np.mean(energy_cost_list),2),round(np.mean(energy_cost_list),2) * NB_EVT],index=index,columns=[\"Average energy cost (kWh)\"])\n",
    "print(df_1)\n",
    "if NB_REPLI>10 :\n",
    "    data=[round(statistics.variance(avg_energy_list),2),round(statistics.stdev(avg_energy_list),2)]\n",
    "    df_2=pd.DataFrame(data=data,index=[\"Variance\",\"Standard Deviation\"],columns=[\"Average energy cost of an elevator / simul.\" ])\n",
    "    print(pd.DataFrame.transpose(df_2))"
   ]
  },
  {
   "cell_type": "code",
   "execution_count": 30,
   "id": "0dc7412d",
   "metadata": {},
   "outputs": [
    {
     "data": {
      "text/html": [
       "<div>\n",
       "<style scoped>\n",
       "    .dataframe tbody tr th:only-of-type {\n",
       "        vertical-align: middle;\n",
       "    }\n",
       "\n",
       "    .dataframe tbody tr th {\n",
       "        vertical-align: top;\n",
       "    }\n",
       "\n",
       "    .dataframe thead th {\n",
       "        text-align: right;\n",
       "    }\n",
       "</style>\n",
       "<table border=\"1\" class=\"dataframe\">\n",
       "  <thead>\n",
       "    <tr style=\"text-align: right;\">\n",
       "      <th></th>\n",
       "      <th>1</th>\n",
       "      <th>2</th>\n",
       "      <th>3</th>\n",
       "      <th>4</th>\n",
       "      <th>5</th>\n",
       "      <th>6</th>\n",
       "      <th>7</th>\n",
       "      <th>8</th>\n",
       "      <th>9</th>\n",
       "      <th>10</th>\n",
       "      <th>11</th>\n",
       "    </tr>\n",
       "  </thead>\n",
       "  <tbody>\n",
       "    <tr>\n",
       "      <th>Number of withdrawal per replication</th>\n",
       "      <td>0</td>\n",
       "      <td>0</td>\n",
       "      <td>0</td>\n",
       "      <td>0</td>\n",
       "      <td>0</td>\n",
       "      <td>0</td>\n",
       "      <td>0</td>\n",
       "      <td>0</td>\n",
       "      <td>0</td>\n",
       "      <td>0</td>\n",
       "      <td>0</td>\n",
       "    </tr>\n",
       "  </tbody>\n",
       "</table>\n",
       "</div>"
      ],
      "text/plain": [
       "                                      1   2   3   4   5   6   7   8   9   10  \\\n",
       "Number of withdrawal per replication   0   0   0   0   0   0   0   0   0   0   \n",
       "\n",
       "                                      11  \n",
       "Number of withdrawal per replication   0  "
      ]
     },
     "execution_count": 30,
     "metadata": {},
     "output_type": "execute_result"
    }
   ],
   "source": [
    "df=pd.DataFrame(data=[withdrawal],index=[\"Number of withdrawal per replication\"],columns=[i+1 for i in range(NB_REPLI)])\n",
    "df.apply(pd.Series)"
   ]
  }
 ],
 "metadata": {
  "kernelspec": {
   "display_name": "Python 3 (ipykernel)",
   "language": "python",
   "name": "python3"
  },
  "language_info": {
   "codemirror_mode": {
    "name": "ipython",
    "version": 3
   },
   "file_extension": ".py",
   "mimetype": "text/x-python",
   "name": "python",
   "nbconvert_exporter": "python",
   "pygments_lexer": "ipython3",
   "version": "3.9.7"
  }
 },
 "nbformat": 4,
 "nbformat_minor": 5
}
